{
 "cells": [
  {
   "cell_type": "code",
   "execution_count": 21,
   "metadata": {},
   "outputs": [
    {
     "name": "stdout",
     "output_type": "stream",
     "text": [
      "Enter a number :5\n",
      "The number you key in has  2  '1' inside\n"
     ]
    }
   ],
   "source": [
    "#Question 1\n",
    "\n",
    "def count(n):   \n",
    "    if (n == 0): \n",
    "        return 0\n",
    "    else: \n",
    "        return (n & 1) + count(n >> 1) \n",
    "          \n",
    "n = int(input(\"Enter a number :\"))\n",
    "   \n",
    "print(\"The number you key in has \",count(n) ,\" '1' inside\") "
   ]
  },
  {
   "cell_type": "code",
   "execution_count": 24,
   "metadata": {},
   "outputs": [
    {
     "name": "stdout",
     "output_type": "stream",
     "text": [
      "[(3, 's'), (3, 'i'), (3, ' ')]\n"
     ]
    }
   ],
   "source": []
  },
  {
   "cell_type": "code",
   "execution_count": 28,
   "metadata": {},
   "outputs": [
    {
     "name": "stdout",
     "output_type": "stream",
     "text": [
      "Input a sentences here :hbjsbvrh sirguig iurjgeituo\n",
      "3\n"
     ]
    }
   ],
   "source": [
    "def wordcount(text):\n",
    "    return len(text.split(' '))\n",
    "\n",
    "text = input(\"Input a sentences here :\");\n",
    "print(wordcount(text))"
   ]
  },
  {
   "cell_type": "code",
   "execution_count": 55,
   "metadata": {},
   "outputs": [
    {
     "name": "stdout",
     "output_type": "stream",
     "text": [
      "The most frequent character is ' a ' which appeared 10 times\n"
     ]
    }
   ],
   "source": [
    "class MyString:\n",
    "\n",
    "    def __init__(word, myString):\n",
    "        word.__myString = myString\n",
    "\n",
    "    def count(word):\n",
    "        counting = len(word.__myString.split())\n",
    "        return counting\n",
    "\n",
    "    def findMostFrequentChar(word):\n",
    "        counter = {}\n",
    "        new_string = list(filter(lambda x: 'a' >= x <= 'z', word.__myString.lower()))\n",
    "        for char in new_string:\n",
    "\n",
    "            if char in counter:\n",
    "                counter[char] += 1\n",
    "            else:\n",
    "                counter[char] = 1\n",
    "\n",
    "        key, value = max(counter.items(), key=lambda x:x[1])\n",
    "        return value, key\n",
    "\n",
    "\n",
    "def main():\n",
    "    aString = MyString(\"an apple is not a tomatoaaaaAa\")\n",
    "    count, letter = aString.findMostFrequentChar()\n",
    "    print(\"The most frequent character is '\", letter, \"' which appeared\", count, \"times\")\n",
    "\n",
    "main()"
   ]
  },
  {
   "cell_type": "code",
   "execution_count": 138,
   "metadata": {},
   "outputs": [
    {
     "name": "stdout",
     "output_type": "stream",
     "text": [
      "Arguments are: (20,)\n",
      "Arguments are: (7,)\n"
     ]
    }
   ],
   "source": [
    "def multiply_by_two(x):\n",
    "    return x * 2\n",
    "\n",
    "def add_numbers(a, b):\n",
    "    return a + b\n",
    "\n",
    "def print_arguments(*args):\n",
    "    print(f'Arguments are: {args}')\n",
    "\n",
    "augmented_multiply_by_two = print_arguments(multiply_by_two(10))\n",
    "\n",
    "x = augmented_multiply_by_two\n",
    "\n",
    "augmented_add_numbers = print_arguments(add_numbers(3, 4))\n",
    "\n",
    "x = augmented_add_numbers \n",
    "\n",
    "\n",
    "\n",
    "\n",
    "\n",
    "\n",
    "\n"
   ]
  },
  {
   "cell_type": "code",
   "execution_count": null,
   "metadata": {},
   "outputs": [],
   "source": [
    "def add_numbers(a, b):\n",
    "return a + b\n",
    "\n",
    "def decorator(x):\n",
    "    def inner(*x):\n",
    "        \n"
   ]
  }
 ],
 "metadata": {
  "kernelspec": {
   "display_name": "Python 3",
   "language": "python",
   "name": "python3"
  }
 },
 "nbformat": 4,
 "nbformat_minor": 4
}
